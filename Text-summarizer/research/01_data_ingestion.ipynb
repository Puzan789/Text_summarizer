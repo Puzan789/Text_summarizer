{
 "cells": [
  {
   "cell_type": "code",
   "execution_count": 1,
   "metadata": {},
   "outputs": [],
   "source": [
    "import os \n"
   ]
  },
  {
   "cell_type": "code",
   "execution_count": 2,
   "metadata": {},
   "outputs": [
    {
     "data": {
      "text/plain": [
       "'/media/puzan/New Volume/textsummarizer/Text-summarizer/research'"
      ]
     },
     "execution_count": 2,
     "metadata": {},
     "output_type": "execute_result"
    }
   ],
   "source": [
    "%pwd"
   ]
  },
  {
   "cell_type": "code",
   "execution_count": 3,
   "metadata": {},
   "outputs": [],
   "source": [
    "os.chdir(\"../\")"
   ]
  },
  {
   "cell_type": "code",
   "execution_count": 4,
   "metadata": {},
   "outputs": [
    {
     "data": {
      "text/plain": [
       "'/media/puzan/New Volume/textsummarizer/Text-summarizer'"
      ]
     },
     "execution_count": 4,
     "metadata": {},
     "output_type": "execute_result"
    }
   ],
   "source": [
    "%pwd"
   ]
  },
  {
   "cell_type": "code",
   "execution_count": 5,
   "metadata": {},
   "outputs": [],
   "source": [
    "# creating entity means return typeof function \n",
    "# This is entity\n",
    "from dataclasses import dataclass\n",
    "from pathlib import Path\n",
    "\n",
    "\n",
    "@dataclass(frozen=True)\n",
    "class DataIngestionConfig:\n",
    "    root_dir:Path\n",
    "    source_URL:str\n",
    "    local_data_file:Path\n",
    "    unzip_dir:Path\n",
    "\n",
    "\n",
    "\n"
   ]
  },
  {
   "cell_type": "code",
   "execution_count": 6,
   "metadata": {},
   "outputs": [],
   "source": [
    "from textSummarizer.constants import CONFIG_FILE_PATH,PARAMS_FILE_PATH\n",
    "from textSummarizer.utils.common import read_yaml ,create_directories\n",
    "\n"
   ]
  },
  {
   "cell_type": "code",
   "execution_count": 7,
   "metadata": {},
   "outputs": [
    {
     "name": "stdout",
     "output_type": "stream",
     "text": [
      "config/config.yaml\n"
     ]
    }
   ],
   "source": [
    "print(CONFIG_FILE_PATH)"
   ]
  },
  {
   "cell_type": "code",
   "execution_count": 8,
   "metadata": {},
   "outputs": [
    {
     "name": "stdout",
     "output_type": "stream",
     "text": [
      "['artifacts_root: artifacts\\n', '\\n', 'data_ingestion:\\n', '  root_dir: artifacts/data_ingestion\\n', '  source_URL: https://github.com/entbappy/Branching-tutorial/raw/master/summarizer-data.zip\\n', '  local_data_file: artifacts/data_ingestion/data.zip\\n', '  unzip_dir: artifacts/data_ingestion']\n"
     ]
    }
   ],
   "source": [
    "with open(CONFIG_FILE_PATH,\"r\") as f:\n",
    "    print(f.readlines())"
   ]
  },
  {
   "cell_type": "code",
   "execution_count": 9,
   "metadata": {},
   "outputs": [],
   "source": [
    "class ConfigurationManager:\n",
    "    def __init__(self,config_file_path=CONFIG_FILE_PATH,params_file_path=PARAMS_FILE_PATH):\n",
    "        self.config=read_yaml(config_file_path)\n",
    "        self.params=read_yaml(params_file_path)\n",
    "        create_directories([self.config.artifacts_root])\n",
    "\n",
    "    def get_data_ingestion_config(self) -> DataIngestionConfig:\n",
    "        config = self.config.data_ingestion\n",
    "        create_directories([Path(config.root_dir)])  # Ensure it's a Path object\n",
    "        data_ingestion_config = DataIngestionConfig(\n",
    "            root_dir=Path(config.root_dir),  # Convert to Path object\n",
    "            source_URL=config.source_URL,\n",
    "            local_data_file=Path(config.local_data_file),  # Convert to Path object\n",
    "            unzip_dir=Path(config.unzip_dir),  # Convert to Path object\n",
    "        )\n",
    "        return data_ingestion_config\n",
    "\n",
    "    "
   ]
  },
  {
   "cell_type": "code",
   "execution_count": 10,
   "metadata": {},
   "outputs": [],
   "source": [
    "## components \n",
    "import os \n",
    "import urllib.request as request \n",
    "import zipfile\n",
    "from textSummarizer.logging import logger \n",
    "from textSummarizer.utils.common import get_size\n"
   ]
  },
  {
   "cell_type": "code",
   "execution_count": 11,
   "metadata": {},
   "outputs": [],
   "source": [
    "# class DataIngestion:\n",
    "#     def __init__(self,config:DataIngestionConfig):\n",
    "#         self.config=config\n",
    "    \n",
    "#     def download_file(self):\n",
    "#         if not os.path.exists(self.config.local_data_file):\n",
    "#             file_name,headers=request.urlretrieve(\n",
    "#                 url=self.config.source_URL,\n",
    "#                 filename=self.config.local_data_file,\n",
    "#             )\n",
    "#             logger.info(f\"{file_name} download! with following info :\\n {headers}\")\n",
    "#         else:\n",
    "#             logger.info(f\"File already exists of size : {get_size(self.config.local_data_file)}\")\n",
    "    \n",
    "\n",
    "#     def extract_zip_file(self):\n",
    "#         unzip_path = self.config.unzip_dir\n",
    "#         os.makedirs(unzip_path, exist_ok=True)\n",
    "#         logger.info(f\"Extracting zip file to {unzip_path}\")\n",
    "\n",
    "#         try:\n",
    "#             with zipfile.ZipFile(self.config.local_data_file, 'r') as zip_ref:\n",
    "#                 zip_ref.extractall(unzip_path)\n",
    "#             logger.info(f\"Extraction completed successfully.\")\n",
    "#         except zipfile.BadZipFile:\n",
    "#             logger.error(f\"Bad zip file: {self.config.local_data_file}\")\n",
    "#             raise\n",
    "#         except zipfile.LargeZipFile:\n",
    "#             logger.error(f\"Zip file is too large: {self.config.local_data_file}\")\n",
    "#             raise\n",
    "#         except Exception as e:\n",
    "#             logger.error(f\"An unexpected error occurred during extraction: {e}\")\n",
    "#             logger.error(f\"Error details: {str(e)}\")  # Capture and print the error details\n",
    "#             raise\n",
    "\n",
    "#         # unzip_path=self.config.unzip_dir\n",
    "#         # os.makedirs(unzip_path,exist_ok=True)\n",
    "#         # with zipfile.ZipFile(self.config.local_data_file, 'r') as zip_ref:\n",
    "#         #             zip_ref.extractall(unzip_path)\n",
    "    \n",
    "    \n",
    "class DataIngestion:\n",
    "    def __init__(self, config: DataIngestionConfig):\n",
    "        self.config = config\n",
    "\n",
    "    def download_file(self):\n",
    "        if not self.config.local_data_file.exists() or os.path.getsize(self.config.local_data_file) == 0:\n",
    "            try:\n",
    "                file_name, headers = request.urlretrieve(\n",
    "                    url=self.config.source_URL,\n",
    "                    filename=self.config.local_data_file,\n",
    "                )\n",
    "                logger.info(f\"{file_name} downloaded! with following info:\\n{headers}\")\n",
    "                \n",
    "                # Verify the file is not empty\n",
    "                if os.path.getsize(self.config.local_data_file) == 0:\n",
    "                    logger.error(\"Downloaded file is empty. The download might have failed.\")\n",
    "                    raise Exception(\"Downloaded file is empty.\")\n",
    "                \n",
    "            except Exception as e:\n",
    "                logger.error(f\"An error occurred while downloading the file: {e}\")\n",
    "                raise\n",
    "        else:\n",
    "            logger.info(f\"File already exists with size: {get_size(self.config.local_data_file)}\")\n",
    "\n",
    "    def extract_zip_file(self):\n",
    "            unzip_path = self.config.unzip_dir\n",
    "            os.makedirs(unzip_path, exist_ok=True)\n",
    "            logger.info(f\"Extracting zip file to {unzip_path}\")\n",
    "\n",
    "            try:\n",
    "                with zipfile.ZipFile(self.config.local_data_file, 'r') as zip_ref:\n",
    "                    zip_ref.extractall(unzip_path)\n",
    "                logger.info(f\"Extraction completed successfully.\")\n",
    "            except zipfile.BadZipFile:\n",
    "                logger.error(f\"Bad zip file: {self.config.local_data_file}\")\n",
    "                raise\n",
    "            except zipfile.LargeZipFile:\n",
    "                logger.error(f\"Zip file is too large: {self.config.local_data_file}\")\n",
    "                raise\n",
    "            except Exception as e:\n",
    "                logger.error(f\"An unexpected error occurred during extraction: {e}\")\n",
    "                logger.error(f\"Error type: {type(e).__name__}\")  # Capture the type of the error\n",
    "                logger.error(f\"Error details: {str(e)}\")  # Capture and print the error details\n",
    "                raise\n",
    "\n"
   ]
  },
  {
   "cell_type": "code",
   "execution_count": 12,
   "metadata": {},
   "outputs": [
    {
     "name": "stdout",
     "output_type": "stream",
     "text": [
      "[2024-08-27 12:23:28,244:INFO:common:yaml_file:config/config.yaml loaded successfully\n",
      "[2024-08-27 12:23:28,245:INFO:common:yaml_file:params.yaml loaded successfully\n",
      "[2024-08-27 12:23:28,247:INFO:common:created directory at: artifacts\n",
      "[2024-08-27 12:23:28,248:INFO:common:created directory at: artifacts/data_ingestion\n",
      "[2024-08-27 12:23:30,720:INFO:2841846646:artifacts/data_ingestion/data.zip downloaded! with following info:\n",
      "Connection: close\n",
      "Content-Length: 7903594\n",
      "Cache-Control: max-age=300\n",
      "Content-Security-Policy: default-src 'none'; style-src 'unsafe-inline'; sandbox\n",
      "Content-Type: application/zip\n",
      "ETag: \"dbc016a060da18070593b83afff580c9b300f0b6ea4147a7988433e04df246ca\"\n",
      "Strict-Transport-Security: max-age=31536000\n",
      "X-Content-Type-Options: nosniff\n",
      "X-Frame-Options: deny\n",
      "X-XSS-Protection: 1; mode=block\n",
      "X-GitHub-Request-Id: 3BB0:26A119:76B98:9FFA0:66CD7465\n",
      "Accept-Ranges: bytes\n",
      "Date: Tue, 27 Aug 2024 06:38:30 GMT\n",
      "Via: 1.1 varnish\n",
      "X-Served-By: cache-del21732-DEL\n",
      "X-Cache: MISS\n",
      "X-Cache-Hits: 0\n",
      "X-Timer: S1724740710.566718,VS0,VE707\n",
      "Vary: Authorization,Accept-Encoding,Origin\n",
      "Access-Control-Allow-Origin: *\n",
      "Cross-Origin-Resource-Policy: cross-origin\n",
      "X-Fastly-Request-ID: 262afd52741fd3913973ff98da8d3b9c2249f3e0\n",
      "Expires: Tue, 27 Aug 2024 06:43:30 GMT\n",
      "Source-Age: 0\n",
      "\n",
      "\n",
      "[2024-08-27 12:23:30,721:INFO:2841846646:Extracting zip file to artifacts/data_ingestion\n",
      "[2024-08-27 12:23:30,834:INFO:2841846646:Extraction completed successfully.\n"
     ]
    }
   ],
   "source": [
    "# Creating pipeline\n",
    "try:\n",
    "    config=ConfigurationManager()\n",
    "    data_ingestion_config=config.get_data_ingestion_config()\n",
    "    data_ingestion=DataIngestion(config=data_ingestion_config)\n",
    "    data_ingestion.download_file()\n",
    "    data_ingestion.extract_zip_file()\n",
    "except Exception as e:\n",
    "    logger.error(f\"An error occurred while processing data ingestion: {e}\")\n"
   ]
  },
  {
   "cell_type": "code",
   "execution_count": 13,
   "metadata": {},
   "outputs": [
    {
     "data": {
      "text/plain": [
       "'/media/puzan/New Volume/textsummarizer/Text-summarizer'"
      ]
     },
     "execution_count": 13,
     "metadata": {},
     "output_type": "execute_result"
    }
   ],
   "source": [
    "%pwd"
   ]
  },
  {
   "cell_type": "code",
   "execution_count": null,
   "metadata": {},
   "outputs": [],
   "source": []
  }
 ],
 "metadata": {
  "kernelspec": {
   "display_name": "textsumm",
   "language": "python",
   "name": "python3"
  },
  "language_info": {
   "codemirror_mode": {
    "name": "ipython",
    "version": 3
   },
   "file_extension": ".py",
   "mimetype": "text/x-python",
   "name": "python",
   "nbconvert_exporter": "python",
   "pygments_lexer": "ipython3",
   "version": "3.12.4"
  }
 },
 "nbformat": 4,
 "nbformat_minor": 2
}
