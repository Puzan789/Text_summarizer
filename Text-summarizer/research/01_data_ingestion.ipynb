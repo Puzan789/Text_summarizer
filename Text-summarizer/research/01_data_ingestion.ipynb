{
 "cells": [
  {
   "cell_type": "code",
   "execution_count": 9,
   "metadata": {},
   "outputs": [],
   "source": [
    "import os \n"
   ]
  },
  {
   "cell_type": "code",
   "execution_count": 10,
   "metadata": {},
   "outputs": [
    {
     "data": {
      "text/plain": [
       "'/media/puzan/NewVolume/textsummarizer/Text-summarizer/research'"
      ]
     },
     "execution_count": 10,
     "metadata": {},
     "output_type": "execute_result"
    }
   ],
   "source": [
    "%pwd"
   ]
  },
  {
   "cell_type": "code",
   "execution_count": 11,
   "metadata": {},
   "outputs": [],
   "source": [
    "os.chdir(\"../\")"
   ]
  },
  {
   "cell_type": "code",
   "execution_count": 12,
   "metadata": {},
   "outputs": [
    {
     "data": {
      "text/plain": [
       "'/media/puzan/NewVolume/textsummarizer/Text-summarizer'"
      ]
     },
     "execution_count": 12,
     "metadata": {},
     "output_type": "execute_result"
    }
   ],
   "source": [
    "%pwd"
   ]
  },
  {
   "cell_type": "code",
   "execution_count": 13,
   "metadata": {},
   "outputs": [],
   "source": [
    "# creating entity means return typeof function \n",
    "# This is entity\n",
    "from dataclasses import dataclass\n",
    "from pathlib import Path\n",
    "\n",
    "\n",
    "@dataclass(frozen=True)\n",
    "class DataIngestionConfig:\n",
    "    root_dir:Path\n",
    "    source_URL:str\n",
    "    local_data_file:Path\n",
    "    unzip_dir:Path\n",
    "\n",
    "\n",
    "\n"
   ]
  },
  {
   "cell_type": "code",
   "execution_count": 14,
   "metadata": {},
   "outputs": [],
   "source": [
    "from textSummarizer.constants import CONFIG_FILE_PATH,PARAMS_FILE_PATH\n",
    "from textSummarizer.utils.common import read_yaml ,create_directories\n",
    "\n"
   ]
  },
  {
   "cell_type": "code",
   "execution_count": 15,
   "metadata": {},
   "outputs": [
    {
     "name": "stdout",
     "output_type": "stream",
     "text": [
      "config/config.yaml\n"
     ]
    }
   ],
   "source": [
    "print(CONFIG_FILE_PATH)"
   ]
  },
  {
   "cell_type": "code",
   "execution_count": 16,
   "metadata": {},
   "outputs": [
    {
     "name": "stdout",
     "output_type": "stream",
     "text": [
      "['artifacts_root: artifacts\\n', '\\n', 'data_ingestion:\\n', '  root_dir: artifacts/data_ingestion\\n', '  source_URL: https://github.com/entbappy/Branching-tutorial/raw/master/summarizer-data.zip\\n', '  local_data_file: artifacts/data_ingestion/data.zip\\n', '  unzip_dir: artifacts/data_ingestion']\n"
     ]
    }
   ],
   "source": [
    "with open(CONFIG_FILE_PATH,\"r\") as f:\n",
    "    print(f.readlines())"
   ]
  },
  {
   "cell_type": "code",
   "execution_count": 17,
   "metadata": {},
   "outputs": [],
   "source": [
    "class ConfigurationManager:\n",
    "    def __init__(self,config_file_path=CONFIG_FILE_PATH,params_file_path=PARAMS_FILE_PATH):\n",
    "        self.config=read_yaml(config_file_path)\n",
    "        self.params=read_yaml(params_file_path)\n",
    "        create_directories([self.config.artifacts_root])\n",
    "\n",
    "    def get_data_ingestion_config(self) -> DataIngestionConfig:\n",
    "        config = self.config.data_ingestion\n",
    "        create_directories([Path(config.root_dir)])  # Ensure it's a Path object\n",
    "        data_ingestion_config = DataIngestionConfig(\n",
    "            root_dir=Path(config.root_dir),  # Convert to Path object\n",
    "            source_URL=config.source_URL,\n",
    "            local_data_file=Path(config.local_data_file),  # Convert to Path object\n",
    "            unzip_dir=Path(config.unzip_dir),  # Convert to Path object\n",
    "        )\n",
    "        return data_ingestion_config\n",
    "\n",
    "    "
   ]
  },
  {
   "cell_type": "code",
   "execution_count": 18,
   "metadata": {},
   "outputs": [],
   "source": [
    "## components \n",
    "import os \n",
    "import urllib.request as request \n",
    "import zipfile\n",
    "from textSummarizer.logging import logger \n",
    "from textSummarizer.utils.common import get_size\n"
   ]
  },
  {
   "cell_type": "code",
   "execution_count": 19,
   "metadata": {},
   "outputs": [],
   "source": [
    "# class DataIngestion:\n",
    "#     def __init__(self,config:DataIngestionConfig):\n",
    "#         self.config=config\n",
    "    \n",
    "#     def download_file(self):\n",
    "#         if not os.path.exists(self.config.local_data_file):\n",
    "#             file_name,headers=request.urlretrieve(\n",
    "#                 url=self.config.source_URL,\n",
    "#                 filename=self.config.local_data_file,\n",
    "#             )\n",
    "#             logger.info(f\"{file_name} download! with following info :\\n {headers}\")\n",
    "#         else:\n",
    "#             logger.info(f\"File already exists of size : {get_size(self.config.local_data_file)}\")\n",
    "    \n",
    "\n",
    "#     def extract_zip_file(self):\n",
    "#         unzip_path = self.config.unzip_dir\n",
    "#         os.makedirs(unzip_path, exist_ok=True)\n",
    "#         logger.info(f\"Extracting zip file to {unzip_path}\")\n",
    "\n",
    "#         try:\n",
    "#             with zipfile.ZipFile(self.config.local_data_file, 'r') as zip_ref:\n",
    "#                 zip_ref.extractall(unzip_path)\n",
    "#             logger.info(f\"Extraction completed successfully.\")\n",
    "#         except zipfile.BadZipFile:\n",
    "#             logger.error(f\"Bad zip file: {self.config.local_data_file}\")\n",
    "#             raise\n",
    "#         except zipfile.LargeZipFile:\n",
    "#             logger.error(f\"Zip file is too large: {self.config.local_data_file}\")\n",
    "#             raise\n",
    "#         except Exception as e:\n",
    "#             logger.error(f\"An unexpected error occurred during extraction: {e}\")\n",
    "#             logger.error(f\"Error details: {str(e)}\")  # Capture and print the error details\n",
    "#             raise\n",
    "\n",
    "#         # unzip_path=self.config.unzip_dir\n",
    "#         # os.makedirs(unzip_path,exist_ok=True)\n",
    "#         # with zipfile.ZipFile(self.config.local_data_file, 'r') as zip_ref:\n",
    "#         #             zip_ref.extractall(unzip_path)\n",
    "    \n",
    "    \n",
    "class DataIngestion:\n",
    "    def __init__(self, config: DataIngestionConfig):\n",
    "        self.config = config\n",
    "\n",
    "    def download_file(self):\n",
    "        if not self.config.local_data_file.exists() or os.path.getsize(self.config.local_data_file) == 0:\n",
    "            try:\n",
    "                file_name, headers = request.urlretrieve(\n",
    "                    url=self.config.source_URL,\n",
    "                    filename=self.config.local_data_file,\n",
    "                )\n",
    "                logger.info(f\"{file_name} downloaded! with following info:\\n{headers}\")\n",
    "                \n",
    "                # Verify the file is not empty\n",
    "                if os.path.getsize(self.config.local_data_file) == 0:\n",
    "                    logger.error(\"Downloaded file is empty. The download might have failed.\")\n",
    "                    raise Exception(\"Downloaded file is empty.\")\n",
    "                \n",
    "            except Exception as e:\n",
    "                logger.error(f\"An error occurred while downloading the file: {e}\")\n",
    "                raise\n",
    "        else:\n",
    "            logger.info(f\"File already exists with size: {get_size(self.config.local_data_file)}\")\n",
    "\n",
    "    def extract_zip_file(self):\n",
    "            unzip_path = self.config.unzip_dir\n",
    "            os.makedirs(unzip_path, exist_ok=True)\n",
    "            logger.info(f\"Extracting zip file to {unzip_path}\")\n",
    "\n",
    "            try:\n",
    "                with zipfile.ZipFile(self.config.local_data_file, 'r') as zip_ref:\n",
    "                    zip_ref.extractall(unzip_path)\n",
    "                logger.info(f\"Extraction completed successfully.\")\n",
    "            except zipfile.BadZipFile:\n",
    "                logger.error(f\"Bad zip file: {self.config.local_data_file}\")\n",
    "                raise\n",
    "            except zipfile.LargeZipFile:\n",
    "                logger.error(f\"Zip file is too large: {self.config.local_data_file}\")\n",
    "                raise\n",
    "            except Exception as e:\n",
    "                logger.error(f\"An unexpected error occurred during extraction: {e}\")\n",
    "                logger.error(f\"Error type: {type(e).__name__}\")  # Capture the type of the error\n",
    "                logger.error(f\"Error details: {str(e)}\")  # Capture and print the error details\n",
    "                raise\n",
    "\n"
   ]
  },
  {
   "cell_type": "code",
   "execution_count": 20,
   "metadata": {},
   "outputs": [
    {
     "name": "stdout",
     "output_type": "stream",
     "text": [
      "[2024-09-12 14:31:15,350:INFO:common:yaml_file:config/config.yaml loaded successfully\n",
      "[2024-09-12 14:31:15,355:INFO:common:yaml_file:params.yaml loaded successfully\n",
      "[2024-09-12 14:31:15,357:INFO:common:created directory at: artifacts\n",
      "[2024-09-12 14:31:15,360:INFO:common:created directory at: artifacts/data_ingestion\n",
      "[2024-09-12 14:31:15,361:INFO:2841846646:File already exists with size:  ~7718 KB\n",
      "[2024-09-12 14:31:15,363:INFO:2841846646:Extracting zip file to artifacts/data_ingestion\n",
      "[2024-09-12 14:31:15,735:INFO:2841846646:Extraction completed successfully.\n"
     ]
    }
   ],
   "source": [
    "# Creating pipeline\n",
    "try:\n",
    "    config=ConfigurationManager()\n",
    "    data_ingestion_config=config.get_data_ingestion_config()\n",
    "    data_ingestion=DataIngestion(config=data_ingestion_config)\n",
    "    data_ingestion.download_file()\n",
    "    data_ingestion.extract_zip_file()\n",
    "except Exception as e:\n",
    "    logger.error(f\"An error occurred while processing data ingestion: {e}\")\n"
   ]
  },
  {
   "cell_type": "code",
   "execution_count": 21,
   "metadata": {},
   "outputs": [
    {
     "data": {
      "text/plain": [
       "'/media/puzan/NewVolume/textsummarizer/Text-summarizer'"
      ]
     },
     "execution_count": 21,
     "metadata": {},
     "output_type": "execute_result"
    }
   ],
   "source": [
    "%pwd"
   ]
  },
  {
   "cell_type": "code",
   "execution_count": null,
   "metadata": {},
   "outputs": [],
   "source": []
  }
 ],
 "metadata": {
  "kernelspec": {
   "display_name": "textsumm",
   "language": "python",
   "name": "python3"
  },
  "language_info": {
   "codemirror_mode": {
    "name": "ipython",
    "version": 3
   },
   "file_extension": ".py",
   "mimetype": "text/x-python",
   "name": "python",
   "nbconvert_exporter": "python",
   "pygments_lexer": "ipython3",
   "version": "3.12.4"
  }
 },
 "nbformat": 4,
 "nbformat_minor": 2
}
